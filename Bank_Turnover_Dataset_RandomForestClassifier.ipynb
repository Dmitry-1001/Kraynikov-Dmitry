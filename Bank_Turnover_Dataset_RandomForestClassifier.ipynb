{
  "nbformat": 4,
  "nbformat_minor": 0,
  "metadata": {
    "kernelspec": {
      "display_name": "Python 3",
      "language": "python",
      "name": "python3"
    },
    "language_info": {
      "codemirror_mode": {
        "name": "ipython",
        "version": 3
      },
      "file_extension": ".py",
      "mimetype": "text/x-python",
      "name": "python",
      "nbconvert_exporter": "python",
      "pygments_lexer": "ipython3",
      "version": "3.7.6"
    },
    "colab": {
      "name": "Bank Turnover Dataset_RandomForestClassifier.ipynb",
      "provenance": [],
      "toc_visible": true
    }
  },
  "cells": [
    {
      "cell_type": "markdown",
      "metadata": {
        "id": "0ohZVmw65Ecq",
        "colab_type": "text"
      },
      "source": [
        "# Отток клиентов"
      ]
    },
    {
      "cell_type": "markdown",
      "metadata": {
        "id": "X3i969xD5Ecs",
        "colab_type": "text"
      },
      "source": [
        "Из «Бета-Банка» стали уходить клиенты. Каждый месяц. Немного, но заметно. Банковские маркетологи посчитали: сохранять текущих клиентов дешевле, чем привлекать новых.\n",
        "\n",
        "Нужно спрогнозировать, уйдёт клиент из банка в ближайшее время или нет. Вам предоставлены исторические данные о поведении клиентов и расторжении договоров с банком. \n",
        "\n",
        "Постройте модель с предельно большим значением *F1*-меры. Чтобы сдать проект успешно, нужно довести метрику до 0.59. Проверьте *F1*-меру на тестовой выборке самостоятельно.\n",
        "\n",
        "Дополнительно измеряйте *AUC-ROC*, сравнивайте её значение с *F1*-мерой.\n",
        "\n",
        "Источник данных: [https://www.kaggle.com/barelydedicated/bank-customer-churn-modeling](https://www.kaggle.com/barelydedicated/bank-customer-churn-modeling)"
      ]
    },
    {
      "cell_type": "markdown",
      "metadata": {
        "id": "QZl1EHuA5Ect",
        "colab_type": "text"
      },
      "source": [
        "# 1. Подготовка данных"
      ]
    },
    {
      "cell_type": "code",
      "metadata": {
        "id": "UtVmzGfb5Ecu",
        "colab_type": "code",
        "colab": {},
        "outputId": "0defce99-543b-4f66-acbb-0a0f49d479ad"
      },
      "source": [
        "import pandas as pd\n",
        "import numpy as np\n",
        "import matplotlib.pyplot as plt\n",
        "from sklearn.model_selection import train_test_split\n",
        "from sklearn.metrics import mean_absolute_error\n",
        "from sklearn.preprocessing import OrdinalEncoder\n",
        "from sklearn.preprocessing import StandardScaler\n",
        "\n",
        "from sklearn.tree import DecisionTreeClassifier\n",
        "from sklearn.ensemble import RandomForestClassifier\n",
        "from sklearn.linear_model import LogisticRegression\n",
        "\n",
        "from sklearn.model_selection import GridSearchCV\n",
        "from sklearn.utils import shuffle\n",
        "from sklearn.metrics import f1_score, roc_auc_score, accuracy_score\n",
        "\n",
        "data = pd.read_csv('/datasets/Churn.csv')\n",
        "data.info()\n",
        "print(data.head())"
      ],
      "execution_count": null,
      "outputs": [
        {
          "output_type": "stream",
          "text": [
            "<class 'pandas.core.frame.DataFrame'>\n",
            "RangeIndex: 10000 entries, 0 to 9999\n",
            "Data columns (total 14 columns):\n",
            "RowNumber          10000 non-null int64\n",
            "CustomerId         10000 non-null int64\n",
            "Surname            10000 non-null object\n",
            "CreditScore        10000 non-null int64\n",
            "Geography          10000 non-null object\n",
            "Gender             10000 non-null object\n",
            "Age                10000 non-null int64\n",
            "Tenure             9091 non-null float64\n",
            "Balance            10000 non-null float64\n",
            "NumOfProducts      10000 non-null int64\n",
            "HasCrCard          10000 non-null int64\n",
            "IsActiveMember     10000 non-null int64\n",
            "EstimatedSalary    10000 non-null float64\n",
            "Exited             10000 non-null int64\n",
            "dtypes: float64(3), int64(8), object(3)\n",
            "memory usage: 1.1+ MB\n",
            "   RowNumber  CustomerId   Surname  CreditScore Geography  Gender  Age  \\\n",
            "0          1    15634602  Hargrave          619    France  Female   42   \n",
            "1          2    15647311      Hill          608     Spain  Female   41   \n",
            "2          3    15619304      Onio          502    France  Female   42   \n",
            "3          4    15701354      Boni          699    France  Female   39   \n",
            "4          5    15737888  Mitchell          850     Spain  Female   43   \n",
            "\n",
            "   Tenure    Balance  NumOfProducts  HasCrCard  IsActiveMember  \\\n",
            "0     2.0       0.00              1          1               1   \n",
            "1     1.0   83807.86              1          0               1   \n",
            "2     8.0  159660.80              3          1               0   \n",
            "3     1.0       0.00              2          0               0   \n",
            "4     2.0  125510.82              1          1               1   \n",
            "\n",
            "   EstimatedSalary  Exited  \n",
            "0        101348.88       1  \n",
            "1        112542.58       0  \n",
            "2        113931.57       1  \n",
            "3         93826.63       0  \n",
            "4         79084.10       0  \n"
          ],
          "name": "stdout"
        }
      ]
    },
    {
      "cell_type": "markdown",
      "metadata": {
        "id": "4yirO2wN5Ec7",
        "colab_type": "text"
      },
      "source": [
        "- RowNumber - дубликат индекса, удаляем"
      ]
    },
    {
      "cell_type": "code",
      "metadata": {
        "id": "0F510Qte5Ec9",
        "colab_type": "code",
        "colab": {},
        "outputId": "e0e0eefa-fd1b-4de3-ce7f-62f41e31de20"
      },
      "source": [
        "data.drop('RowNumber', axis = 1, inplace = True)\n",
        "data.head()"
      ],
      "execution_count": null,
      "outputs": [
        {
          "output_type": "execute_result",
          "data": {
            "text/html": [
              "<div>\n",
              "<style scoped>\n",
              "    .dataframe tbody tr th:only-of-type {\n",
              "        vertical-align: middle;\n",
              "    }\n",
              "\n",
              "    .dataframe tbody tr th {\n",
              "        vertical-align: top;\n",
              "    }\n",
              "\n",
              "    .dataframe thead th {\n",
              "        text-align: right;\n",
              "    }\n",
              "</style>\n",
              "<table border=\"1\" class=\"dataframe\">\n",
              "  <thead>\n",
              "    <tr style=\"text-align: right;\">\n",
              "      <th></th>\n",
              "      <th>CustomerId</th>\n",
              "      <th>Surname</th>\n",
              "      <th>CreditScore</th>\n",
              "      <th>Geography</th>\n",
              "      <th>Gender</th>\n",
              "      <th>Age</th>\n",
              "      <th>Tenure</th>\n",
              "      <th>Balance</th>\n",
              "      <th>NumOfProducts</th>\n",
              "      <th>HasCrCard</th>\n",
              "      <th>IsActiveMember</th>\n",
              "      <th>EstimatedSalary</th>\n",
              "      <th>Exited</th>\n",
              "    </tr>\n",
              "  </thead>\n",
              "  <tbody>\n",
              "    <tr>\n",
              "      <td>0</td>\n",
              "      <td>15634602</td>\n",
              "      <td>Hargrave</td>\n",
              "      <td>619</td>\n",
              "      <td>France</td>\n",
              "      <td>Female</td>\n",
              "      <td>42</td>\n",
              "      <td>2.0</td>\n",
              "      <td>0.00</td>\n",
              "      <td>1</td>\n",
              "      <td>1</td>\n",
              "      <td>1</td>\n",
              "      <td>101348.88</td>\n",
              "      <td>1</td>\n",
              "    </tr>\n",
              "    <tr>\n",
              "      <td>1</td>\n",
              "      <td>15647311</td>\n",
              "      <td>Hill</td>\n",
              "      <td>608</td>\n",
              "      <td>Spain</td>\n",
              "      <td>Female</td>\n",
              "      <td>41</td>\n",
              "      <td>1.0</td>\n",
              "      <td>83807.86</td>\n",
              "      <td>1</td>\n",
              "      <td>0</td>\n",
              "      <td>1</td>\n",
              "      <td>112542.58</td>\n",
              "      <td>0</td>\n",
              "    </tr>\n",
              "    <tr>\n",
              "      <td>2</td>\n",
              "      <td>15619304</td>\n",
              "      <td>Onio</td>\n",
              "      <td>502</td>\n",
              "      <td>France</td>\n",
              "      <td>Female</td>\n",
              "      <td>42</td>\n",
              "      <td>8.0</td>\n",
              "      <td>159660.80</td>\n",
              "      <td>3</td>\n",
              "      <td>1</td>\n",
              "      <td>0</td>\n",
              "      <td>113931.57</td>\n",
              "      <td>1</td>\n",
              "    </tr>\n",
              "    <tr>\n",
              "      <td>3</td>\n",
              "      <td>15701354</td>\n",
              "      <td>Boni</td>\n",
              "      <td>699</td>\n",
              "      <td>France</td>\n",
              "      <td>Female</td>\n",
              "      <td>39</td>\n",
              "      <td>1.0</td>\n",
              "      <td>0.00</td>\n",
              "      <td>2</td>\n",
              "      <td>0</td>\n",
              "      <td>0</td>\n",
              "      <td>93826.63</td>\n",
              "      <td>0</td>\n",
              "    </tr>\n",
              "    <tr>\n",
              "      <td>4</td>\n",
              "      <td>15737888</td>\n",
              "      <td>Mitchell</td>\n",
              "      <td>850</td>\n",
              "      <td>Spain</td>\n",
              "      <td>Female</td>\n",
              "      <td>43</td>\n",
              "      <td>2.0</td>\n",
              "      <td>125510.82</td>\n",
              "      <td>1</td>\n",
              "      <td>1</td>\n",
              "      <td>1</td>\n",
              "      <td>79084.10</td>\n",
              "      <td>0</td>\n",
              "    </tr>\n",
              "  </tbody>\n",
              "</table>\n",
              "</div>"
            ],
            "text/plain": [
              "   CustomerId   Surname  CreditScore Geography  Gender  Age  Tenure  \\\n",
              "0    15634602  Hargrave          619    France  Female   42     2.0   \n",
              "1    15647311      Hill          608     Spain  Female   41     1.0   \n",
              "2    15619304      Onio          502    France  Female   42     8.0   \n",
              "3    15701354      Boni          699    France  Female   39     1.0   \n",
              "4    15737888  Mitchell          850     Spain  Female   43     2.0   \n",
              "\n",
              "     Balance  NumOfProducts  HasCrCard  IsActiveMember  EstimatedSalary  \\\n",
              "0       0.00              1          1               1        101348.88   \n",
              "1   83807.86              1          0               1        112542.58   \n",
              "2  159660.80              3          1               0        113931.57   \n",
              "3       0.00              2          0               0         93826.63   \n",
              "4  125510.82              1          1               1         79084.10   \n",
              "\n",
              "   Exited  \n",
              "0       1  \n",
              "1       0  \n",
              "2       1  \n",
              "3       0  \n",
              "4       0  "
            ]
          },
          "metadata": {
            "tags": []
          },
          "execution_count": 48
        }
      ]
    },
    {
      "cell_type": "markdown",
      "metadata": {
        "id": "Z_25heQc5EdE",
        "colab_type": "text"
      },
      "source": [
        "- Tenure - есть пропуски(нужно удалить или заменить"
      ]
    },
    {
      "cell_type": "code",
      "metadata": {
        "id": "O5sFU2865EdF",
        "colab_type": "code",
        "colab": {}
      },
      "source": [
        "data['Tenure'] = data['Tenure'].fillna(data['Tenure'].median())# заполним медианой"
      ],
      "execution_count": null,
      "outputs": []
    },
    {
      "cell_type": "markdown",
      "metadata": {
        "id": "_38lMdaR5EdO",
        "colab_type": "text"
      },
      "source": [
        "- Surname, Geography, Gender - object. Нужно перевести в числа, чтобы модель работала."
      ]
    },
    {
      "cell_type": "code",
      "metadata": {
        "id": "UKGOXgMm5EdP",
        "colab_type": "code",
        "colab": {},
        "outputId": "fc844f6d-aaf2-4c10-8c09-eb8d903db046"
      },
      "source": [
        "#Посмотрим уникальные объекты в Gender\n",
        "data.Gender.unique()"
      ],
      "execution_count": null,
      "outputs": [
        {
          "output_type": "execute_result",
          "data": {
            "text/plain": [
              "array(['Female', 'Male'], dtype=object)"
            ]
          },
          "metadata": {
            "tags": []
          },
          "execution_count": 50
        }
      ]
    },
    {
      "cell_type": "code",
      "metadata": {
        "id": "Z3QMVsZd5Edd",
        "colab_type": "code",
        "colab": {},
        "outputId": "8c91eca1-ff83-4943-924e-247705b0784f"
      },
      "source": [
        "#Заменим на 0 и 1\n",
        "data.Gender = data.Gender.map({'Female': 0, 'Male':1})\n",
        "data.head()"
      ],
      "execution_count": null,
      "outputs": [
        {
          "output_type": "execute_result",
          "data": {
            "text/html": [
              "<div>\n",
              "<style scoped>\n",
              "    .dataframe tbody tr th:only-of-type {\n",
              "        vertical-align: middle;\n",
              "    }\n",
              "\n",
              "    .dataframe tbody tr th {\n",
              "        vertical-align: top;\n",
              "    }\n",
              "\n",
              "    .dataframe thead th {\n",
              "        text-align: right;\n",
              "    }\n",
              "</style>\n",
              "<table border=\"1\" class=\"dataframe\">\n",
              "  <thead>\n",
              "    <tr style=\"text-align: right;\">\n",
              "      <th></th>\n",
              "      <th>CustomerId</th>\n",
              "      <th>Surname</th>\n",
              "      <th>CreditScore</th>\n",
              "      <th>Geography</th>\n",
              "      <th>Gender</th>\n",
              "      <th>Age</th>\n",
              "      <th>Tenure</th>\n",
              "      <th>Balance</th>\n",
              "      <th>NumOfProducts</th>\n",
              "      <th>HasCrCard</th>\n",
              "      <th>IsActiveMember</th>\n",
              "      <th>EstimatedSalary</th>\n",
              "      <th>Exited</th>\n",
              "    </tr>\n",
              "  </thead>\n",
              "  <tbody>\n",
              "    <tr>\n",
              "      <td>0</td>\n",
              "      <td>15634602</td>\n",
              "      <td>Hargrave</td>\n",
              "      <td>619</td>\n",
              "      <td>France</td>\n",
              "      <td>0</td>\n",
              "      <td>42</td>\n",
              "      <td>2.0</td>\n",
              "      <td>0.00</td>\n",
              "      <td>1</td>\n",
              "      <td>1</td>\n",
              "      <td>1</td>\n",
              "      <td>101348.88</td>\n",
              "      <td>1</td>\n",
              "    </tr>\n",
              "    <tr>\n",
              "      <td>1</td>\n",
              "      <td>15647311</td>\n",
              "      <td>Hill</td>\n",
              "      <td>608</td>\n",
              "      <td>Spain</td>\n",
              "      <td>0</td>\n",
              "      <td>41</td>\n",
              "      <td>1.0</td>\n",
              "      <td>83807.86</td>\n",
              "      <td>1</td>\n",
              "      <td>0</td>\n",
              "      <td>1</td>\n",
              "      <td>112542.58</td>\n",
              "      <td>0</td>\n",
              "    </tr>\n",
              "    <tr>\n",
              "      <td>2</td>\n",
              "      <td>15619304</td>\n",
              "      <td>Onio</td>\n",
              "      <td>502</td>\n",
              "      <td>France</td>\n",
              "      <td>0</td>\n",
              "      <td>42</td>\n",
              "      <td>8.0</td>\n",
              "      <td>159660.80</td>\n",
              "      <td>3</td>\n",
              "      <td>1</td>\n",
              "      <td>0</td>\n",
              "      <td>113931.57</td>\n",
              "      <td>1</td>\n",
              "    </tr>\n",
              "    <tr>\n",
              "      <td>3</td>\n",
              "      <td>15701354</td>\n",
              "      <td>Boni</td>\n",
              "      <td>699</td>\n",
              "      <td>France</td>\n",
              "      <td>0</td>\n",
              "      <td>39</td>\n",
              "      <td>1.0</td>\n",
              "      <td>0.00</td>\n",
              "      <td>2</td>\n",
              "      <td>0</td>\n",
              "      <td>0</td>\n",
              "      <td>93826.63</td>\n",
              "      <td>0</td>\n",
              "    </tr>\n",
              "    <tr>\n",
              "      <td>4</td>\n",
              "      <td>15737888</td>\n",
              "      <td>Mitchell</td>\n",
              "      <td>850</td>\n",
              "      <td>Spain</td>\n",
              "      <td>0</td>\n",
              "      <td>43</td>\n",
              "      <td>2.0</td>\n",
              "      <td>125510.82</td>\n",
              "      <td>1</td>\n",
              "      <td>1</td>\n",
              "      <td>1</td>\n",
              "      <td>79084.10</td>\n",
              "      <td>0</td>\n",
              "    </tr>\n",
              "  </tbody>\n",
              "</table>\n",
              "</div>"
            ],
            "text/plain": [
              "   CustomerId   Surname  CreditScore Geography  Gender  Age  Tenure  \\\n",
              "0    15634602  Hargrave          619    France       0   42     2.0   \n",
              "1    15647311      Hill          608     Spain       0   41     1.0   \n",
              "2    15619304      Onio          502    France       0   42     8.0   \n",
              "3    15701354      Boni          699    France       0   39     1.0   \n",
              "4    15737888  Mitchell          850     Spain       0   43     2.0   \n",
              "\n",
              "     Balance  NumOfProducts  HasCrCard  IsActiveMember  EstimatedSalary  \\\n",
              "0       0.00              1          1               1        101348.88   \n",
              "1   83807.86              1          0               1        112542.58   \n",
              "2  159660.80              3          1               0        113931.57   \n",
              "3       0.00              2          0               0         93826.63   \n",
              "4  125510.82              1          1               1         79084.10   \n",
              "\n",
              "   Exited  \n",
              "0       1  \n",
              "1       0  \n",
              "2       1  \n",
              "3       0  \n",
              "4       0  "
            ]
          },
          "metadata": {
            "tags": []
          },
          "execution_count": 51
        }
      ]
    },
    {
      "cell_type": "code",
      "metadata": {
        "scrolled": true,
        "id": "u2zkBPBj5Edm",
        "colab_type": "code",
        "colab": {},
        "outputId": "a1102730-b899-4ddc-8325-7863dfeb4ac9"
      },
      "source": [
        "# Заполним Surname и Geography числами \n",
        "encoder = OrdinalEncoder()\n",
        "data_ordinal = encoder.fit_transform(data)\n",
        "data_new = pd.DataFrame(data_ordinal, columns=data.columns)\n",
        "data_new.head()"
      ],
      "execution_count": null,
      "outputs": [
        {
          "output_type": "execute_result",
          "data": {
            "text/html": [
              "<div>\n",
              "<style scoped>\n",
              "    .dataframe tbody tr th:only-of-type {\n",
              "        vertical-align: middle;\n",
              "    }\n",
              "\n",
              "    .dataframe tbody tr th {\n",
              "        vertical-align: top;\n",
              "    }\n",
              "\n",
              "    .dataframe thead th {\n",
              "        text-align: right;\n",
              "    }\n",
              "</style>\n",
              "<table border=\"1\" class=\"dataframe\">\n",
              "  <thead>\n",
              "    <tr style=\"text-align: right;\">\n",
              "      <th></th>\n",
              "      <th>CustomerId</th>\n",
              "      <th>Surname</th>\n",
              "      <th>CreditScore</th>\n",
              "      <th>Geography</th>\n",
              "      <th>Gender</th>\n",
              "      <th>Age</th>\n",
              "      <th>Tenure</th>\n",
              "      <th>Balance</th>\n",
              "      <th>NumOfProducts</th>\n",
              "      <th>HasCrCard</th>\n",
              "      <th>IsActiveMember</th>\n",
              "      <th>EstimatedSalary</th>\n",
              "      <th>Exited</th>\n",
              "    </tr>\n",
              "  </thead>\n",
              "  <tbody>\n",
              "    <tr>\n",
              "      <td>0</td>\n",
              "      <td>2736.0</td>\n",
              "      <td>1115.0</td>\n",
              "      <td>228.0</td>\n",
              "      <td>0.0</td>\n",
              "      <td>0.0</td>\n",
              "      <td>24.0</td>\n",
              "      <td>2.0</td>\n",
              "      <td>0.0</td>\n",
              "      <td>0.0</td>\n",
              "      <td>1.0</td>\n",
              "      <td>1.0</td>\n",
              "      <td>5068.0</td>\n",
              "      <td>1.0</td>\n",
              "    </tr>\n",
              "    <tr>\n",
              "      <td>1</td>\n",
              "      <td>3258.0</td>\n",
              "      <td>1177.0</td>\n",
              "      <td>217.0</td>\n",
              "      <td>2.0</td>\n",
              "      <td>0.0</td>\n",
              "      <td>23.0</td>\n",
              "      <td>1.0</td>\n",
              "      <td>743.0</td>\n",
              "      <td>0.0</td>\n",
              "      <td>0.0</td>\n",
              "      <td>1.0</td>\n",
              "      <td>5639.0</td>\n",
              "      <td>0.0</td>\n",
              "    </tr>\n",
              "    <tr>\n",
              "      <td>2</td>\n",
              "      <td>2104.0</td>\n",
              "      <td>2040.0</td>\n",
              "      <td>111.0</td>\n",
              "      <td>0.0</td>\n",
              "      <td>0.0</td>\n",
              "      <td>24.0</td>\n",
              "      <td>8.0</td>\n",
              "      <td>5793.0</td>\n",
              "      <td>2.0</td>\n",
              "      <td>1.0</td>\n",
              "      <td>0.0</td>\n",
              "      <td>5707.0</td>\n",
              "      <td>1.0</td>\n",
              "    </tr>\n",
              "    <tr>\n",
              "      <td>3</td>\n",
              "      <td>5435.0</td>\n",
              "      <td>289.0</td>\n",
              "      <td>308.0</td>\n",
              "      <td>0.0</td>\n",
              "      <td>0.0</td>\n",
              "      <td>21.0</td>\n",
              "      <td>1.0</td>\n",
              "      <td>0.0</td>\n",
              "      <td>1.0</td>\n",
              "      <td>0.0</td>\n",
              "      <td>0.0</td>\n",
              "      <td>4704.0</td>\n",
              "      <td>0.0</td>\n",
              "    </tr>\n",
              "    <tr>\n",
              "      <td>4</td>\n",
              "      <td>6899.0</td>\n",
              "      <td>1822.0</td>\n",
              "      <td>459.0</td>\n",
              "      <td>2.0</td>\n",
              "      <td>0.0</td>\n",
              "      <td>25.0</td>\n",
              "      <td>2.0</td>\n",
              "      <td>3696.0</td>\n",
              "      <td>0.0</td>\n",
              "      <td>1.0</td>\n",
              "      <td>1.0</td>\n",
              "      <td>3925.0</td>\n",
              "      <td>0.0</td>\n",
              "    </tr>\n",
              "  </tbody>\n",
              "</table>\n",
              "</div>"
            ],
            "text/plain": [
              "   CustomerId  Surname  CreditScore  Geography  Gender   Age  Tenure  Balance  \\\n",
              "0      2736.0   1115.0        228.0        0.0     0.0  24.0     2.0      0.0   \n",
              "1      3258.0   1177.0        217.0        2.0     0.0  23.0     1.0    743.0   \n",
              "2      2104.0   2040.0        111.0        0.0     0.0  24.0     8.0   5793.0   \n",
              "3      5435.0    289.0        308.0        0.0     0.0  21.0     1.0      0.0   \n",
              "4      6899.0   1822.0        459.0        2.0     0.0  25.0     2.0   3696.0   \n",
              "\n",
              "   NumOfProducts  HasCrCard  IsActiveMember  EstimatedSalary  Exited  \n",
              "0            0.0        1.0             1.0           5068.0     1.0  \n",
              "1            0.0        0.0             1.0           5639.0     0.0  \n",
              "2            2.0        1.0             0.0           5707.0     1.0  \n",
              "3            1.0        0.0             0.0           4704.0     0.0  \n",
              "4            0.0        1.0             1.0           3925.0     0.0  "
            ]
          },
          "metadata": {
            "tags": []
          },
          "execution_count": 52
        }
      ]
    },
    {
      "cell_type": "code",
      "metadata": {
        "id": "hZBtHgHy5Edy",
        "colab_type": "code",
        "colab": {},
        "outputId": "feb96abe-e8e9-44e8-b935-d16c0ca90f72"
      },
      "source": [
        "data_new.info()"
      ],
      "execution_count": null,
      "outputs": [
        {
          "output_type": "stream",
          "text": [
            "<class 'pandas.core.frame.DataFrame'>\n",
            "RangeIndex: 10000 entries, 0 to 9999\n",
            "Data columns (total 13 columns):\n",
            "CustomerId         10000 non-null float64\n",
            "Surname            10000 non-null float64\n",
            "CreditScore        10000 non-null float64\n",
            "Geography          10000 non-null float64\n",
            "Gender             10000 non-null float64\n",
            "Age                10000 non-null float64\n",
            "Tenure             10000 non-null float64\n",
            "Balance            10000 non-null float64\n",
            "NumOfProducts      10000 non-null float64\n",
            "HasCrCard          10000 non-null float64\n",
            "IsActiveMember     10000 non-null float64\n",
            "EstimatedSalary    10000 non-null float64\n",
            "Exited             10000 non-null float64\n",
            "dtypes: float64(13)\n",
            "memory usage: 1015.8 KB\n"
          ],
          "name": "stdout"
        }
      ]
    },
    {
      "cell_type": "code",
      "metadata": {
        "scrolled": true,
        "id": "VlIsvKC-5Ed_",
        "colab_type": "code",
        "colab": {},
        "outputId": "a98f7d9d-9cbf-4098-fab8-0fe4fc3023e6"
      },
      "source": [
        "data_new = data_new.astype({\n",
        "    'CustomerId'    : 'int32',\n",
        "    'Surname'       : 'int32',\n",
        "    'Geography'     : 'int32',\n",
        "    'Gender'        : 'int32',\n",
        "    'Age'           : 'int32',\n",
        "    'Tenure'        : 'int32',\n",
        "    'NumOfProducts' : 'int32',\n",
        "    'HasCrCard'     : 'int32',\n",
        "    'IsActiveMember': 'int32',\n",
        "    'Exited'        : 'int32'})\n",
        "data_new.info()"
      ],
      "execution_count": null,
      "outputs": [
        {
          "output_type": "stream",
          "text": [
            "<class 'pandas.core.frame.DataFrame'>\n",
            "RangeIndex: 10000 entries, 0 to 9999\n",
            "Data columns (total 13 columns):\n",
            "CustomerId         10000 non-null int32\n",
            "Surname            10000 non-null int32\n",
            "CreditScore        10000 non-null float64\n",
            "Geography          10000 non-null int32\n",
            "Gender             10000 non-null int32\n",
            "Age                10000 non-null int32\n",
            "Tenure             10000 non-null int32\n",
            "Balance            10000 non-null float64\n",
            "NumOfProducts      10000 non-null int32\n",
            "HasCrCard          10000 non-null int32\n",
            "IsActiveMember     10000 non-null int32\n",
            "EstimatedSalary    10000 non-null float64\n",
            "Exited             10000 non-null int32\n",
            "dtypes: float64(3), int32(10)\n",
            "memory usage: 625.1 KB\n"
          ],
          "name": "stdout"
        }
      ]
    },
    {
      "cell_type": "markdown",
      "metadata": {
        "id": "Tg9ZP1dC5EeF",
        "colab_type": "text"
      },
      "source": [
        "## Вывод:"
      ]
    },
    {
      "cell_type": "markdown",
      "metadata": {
        "id": "LgQDc7G85EeG",
        "colab_type": "text"
      },
      "source": [
        "После изучения данных обнаружил:\n",
        " -  столбец RowNumber - дубликат индекса, удалил его\n",
        " -  столбцы Surname, Geography, Gender - object. Перевел в числа, чтобы модель работала.\n",
        " -  чтобы ускорить обработку данных, все столбцы кроме CreditScore, Balance, EstimatedSalary, перевел в int32"
      ]
    },
    {
      "cell_type": "markdown",
      "metadata": {
        "id": "SCPlTfL85EeK",
        "colab_type": "text"
      },
      "source": [
        "# 2. Исследование задачи"
      ]
    },
    {
      "cell_type": "markdown",
      "metadata": {
        "id": "9ugGuOea5EeN",
        "colab_type": "text"
      },
      "source": [
        "- **Разделим датасет на тренировочную, валидационную и тестовую выборки**"
      ]
    },
    {
      "cell_type": "code",
      "metadata": {
        "id": "aLNzRoyY5EeO",
        "colab_type": "code",
        "colab": {}
      },
      "source": [
        "target = data_new['Exited']\n",
        "features = data_new.drop('Exited', axis=1)\n",
        "\n",
        "features_train, features_valid, target_train, target_valid = train_test_split(\n",
        "    features, target, test_size=0.25, random_state=12345)"
      ],
      "execution_count": null,
      "outputs": []
    },
    {
      "cell_type": "code",
      "metadata": {
        "id": "vkKH3NL05EeY",
        "colab_type": "code",
        "colab": {}
      },
      "source": [
        "# Разделим валидационную на тестовую и валидационную\n",
        "features_test, features_valid, target_test, target_valid = train_test_split(\n",
        "    features_valid, target_valid, test_size=0.5, random_state=12345)"
      ],
      "execution_count": null,
      "outputs": []
    },
    {
      "cell_type": "markdown",
      "metadata": {
        "id": "clneNZxn5Eei",
        "colab_type": "text"
      },
      "source": [
        "- **Проверим модель решающего дерева**"
      ]
    },
    {
      "cell_type": "code",
      "metadata": {
        "id": "WsOFDaoq5Eej",
        "colab_type": "code",
        "colab": {},
        "outputId": "642a313a-b84a-4d81-defb-5084f3bf2719"
      },
      "source": [
        "model = DecisionTreeClassifier(random_state=12345)\n",
        "model.fit(features_train, target_train)\n",
        "predicted_valid = model.predict(features_valid)\n",
        "\n",
        "print(f1_score(target_valid, predicted_valid))"
      ],
      "execution_count": null,
      "outputs": [
        {
          "output_type": "stream",
          "text": [
            "0.4878957169459963\n"
          ],
          "name": "stdout"
        }
      ]
    },
    {
      "cell_type": "markdown",
      "metadata": {
        "id": "lrwWUB0s5Een",
        "colab_type": "text"
      },
      "source": [
        "- **Проверим модель случайных деревьев**"
      ]
    },
    {
      "cell_type": "code",
      "metadata": {
        "id": "uSi1x4ox5Een",
        "colab_type": "code",
        "colab": {},
        "outputId": "8fa63430-0e3a-447e-da73-1147ff26b677"
      },
      "source": [
        "ran_forest = RandomForestClassifier(random_state=12345, n_estimators=10)\n",
        "ran_forest.fit(features_train, target_train) \n",
        "predicted_valid_forest = ran_forest.predict(features_valid)\n",
        "\n",
        "print(f1_score(target_valid, predicted_valid_forest))"
      ],
      "execution_count": null,
      "outputs": [
        {
          "output_type": "stream",
          "text": [
            "0.508557457212714\n"
          ],
          "name": "stdout"
        }
      ]
    },
    {
      "cell_type": "markdown",
      "metadata": {
        "id": "oP13rcFT5Eev",
        "colab_type": "text"
      },
      "source": [
        "- **Проверим модель логистической регрессии**"
      ]
    },
    {
      "cell_type": "code",
      "metadata": {
        "id": "9kDV36Oa5Eev",
        "colab_type": "code",
        "colab": {},
        "outputId": "171b88cf-498e-4856-d513-4ca8017da813"
      },
      "source": [
        "log_reg = LogisticRegression(random_state=12345, solver='liblinear', class_weight='balanced')\n",
        "log_reg.fit(features_train, target_train)\n",
        "predicted_valid_regr = log_reg.predict(features_valid)\n",
        "\n",
        "print(\"F1:\", f1_score(target_valid, predicted_valid_regr))"
      ],
      "execution_count": null,
      "outputs": [
        {
          "output_type": "stream",
          "text": [
            "F1: 0.4927536231884058\n"
          ],
          "name": "stdout"
        }
      ]
    },
    {
      "cell_type": "markdown",
      "metadata": {
        "id": "-0Lb7MY65Eez",
        "colab_type": "text"
      },
      "source": [
        "- **Лучший скор у случайных деревьев. Подберем для него параметры.**"
      ]
    },
    {
      "cell_type": "code",
      "metadata": {
        "id": "hQYEuCQR5Ee0",
        "colab_type": "code",
        "colab": {},
        "outputId": "e473e683-f64b-45b1-e3e5-7360d843f5dd"
      },
      "source": [
        "# Используем GridSearchCV для поиска оптимальных гиперпараметров\n",
        "params = [\n",
        "    {\n",
        "        'n_estimators': [50, 100, 150],\n",
        "        'max_leaf_nodes':[50,100,150]\n",
        "    },\n",
        "    {\n",
        "        'bootstrap': [False],\n",
        "        'n_estimators': [50, 100,150],\n",
        "    },\n",
        "]\n",
        "ran_forest = RandomForestClassifier()\n",
        "grid_search = GridSearchCV(\n",
        "    ran_forest, param_grid = params, cv=5, scoring='neg_mean_squared_error')\n",
        "grid_search.fit(features_train, target_train)"
      ],
      "execution_count": null,
      "outputs": [
        {
          "output_type": "execute_result",
          "data": {
            "text/plain": [
              "GridSearchCV(cv=5, error_score='raise-deprecating',\n",
              "             estimator=RandomForestClassifier(bootstrap=True, class_weight=None,\n",
              "                                              criterion='gini', max_depth=None,\n",
              "                                              max_features='auto',\n",
              "                                              max_leaf_nodes=None,\n",
              "                                              min_impurity_decrease=0.0,\n",
              "                                              min_impurity_split=None,\n",
              "                                              min_samples_leaf=1,\n",
              "                                              min_samples_split=2,\n",
              "                                              min_weight_fraction_leaf=0.0,\n",
              "                                              n_estimators='warn', n_jobs=None,\n",
              "                                              oob_score=False,\n",
              "                                              random_state=None, verbose=0,\n",
              "                                              warm_start=False),\n",
              "             iid='warn', n_jobs=None,\n",
              "             param_grid=[{'max_leaf_nodes': [50, 100, 150],\n",
              "                          'n_estimators': [50, 100, 150]},\n",
              "                         {'bootstrap': [False],\n",
              "                          'n_estimators': [50, 100, 150]}],\n",
              "             pre_dispatch='2*n_jobs', refit=True, return_train_score=False,\n",
              "             scoring='neg_mean_squared_error', verbose=0)"
            ]
          },
          "metadata": {
            "tags": []
          },
          "execution_count": 15
        }
      ]
    },
    {
      "cell_type": "code",
      "metadata": {
        "id": "exbRGm6U5Ee5",
        "colab_type": "code",
        "colab": {},
        "outputId": "2b0ee4c0-67c3-4732-f9ef-682c2098a95e"
      },
      "source": [
        "grid_search.best_params_"
      ],
      "execution_count": null,
      "outputs": [
        {
          "output_type": "execute_result",
          "data": {
            "text/plain": [
              "{'max_leaf_nodes': 150, 'n_estimators': 50}"
            ]
          },
          "metadata": {
            "tags": []
          },
          "execution_count": 171
        }
      ]
    },
    {
      "cell_type": "code",
      "metadata": {
        "scrolled": true,
        "id": "VJx8S3xc5EfC",
        "colab_type": "code",
        "colab": {},
        "outputId": "ed3d9a30-c32d-4dfa-8b2a-e6dad7d0e1ef"
      },
      "source": [
        "#Используем лучшие параметры для модели\n",
        "ran_forest = RandomForestClassifier(\n",
        "    random_state=12345,\n",
        "    n_estimators=50,\n",
        "    max_leaf_nodes=150\n",
        ")\n",
        "ran_forest.fit(features_train, target_train) \n",
        "predicted_valid_forest = ran_forest.predict(features_valid)\n",
        "\n",
        "print('VALID       f1      =', f1_score(target_valid, predicted_valid_forest))\n",
        "print('VALID accuracy      =', accuracy_score(target_valid, predicted_valid_forest))\n",
        "print('VALID roc_auc_score =', roc_auc_score(target_valid, predicted_valid_forest))"
      ],
      "execution_count": null,
      "outputs": [
        {
          "output_type": "stream",
          "text": [
            "VALID       f1      = 0.5037783375314862\n",
            "VALID accuracy      = 0.8424\n",
            "VALID roc_auc_score = 0.6710423433176952\n"
          ],
          "name": "stdout"
        }
      ]
    },
    {
      "cell_type": "markdown",
      "metadata": {
        "id": "n4I-Be8n5EfG",
        "colab_type": "text"
      },
      "source": [
        "## Вывод:"
      ]
    },
    {
      "cell_type": "markdown",
      "metadata": {
        "id": "2LkMlS8J5EfG",
        "colab_type": "text"
      },
      "source": [
        " - Разделил датасет на тренировочную, валидационную и тестовую выборки\n",
        " - Проверил работу моделей: тестового дерева, случайных деревьев и логистической регрессии. \n",
        " - Выбрал модель с лучшие показания f1-меры - Модель случайных деревьев.\n",
        " - Для выбранной модели методом GridSearchCV подобрал параметры.\n",
        " - Проверил значения f1, accuracy и roc_auc_score на валидационных данных."
      ]
    },
    {
      "cell_type": "markdown",
      "metadata": {
        "id": "gfIPqjzq5EfJ",
        "colab_type": "text"
      },
      "source": [
        "# 3. Борьба с дисбалансом"
      ]
    },
    {
      "cell_type": "code",
      "metadata": {
        "id": "qVHlmtOw5EfJ",
        "colab_type": "code",
        "colab": {},
        "outputId": "d473e794-680e-4c3a-cdb1-0de20464f328"
      },
      "source": [
        "target_train.value_counts()"
      ],
      "execution_count": null,
      "outputs": [
        {
          "output_type": "execute_result",
          "data": {
            "text/plain": [
              "0    4804\n",
              "1    1196\n",
              "Name: Exited, dtype: int64"
            ]
          },
          "metadata": {
            "tags": []
          },
          "execution_count": 24
        }
      ]
    },
    {
      "cell_type": "markdown",
      "metadata": {
        "id": "FtI_Pebg5EfP",
        "colab_type": "text"
      },
      "source": [
        "- **Видим количество значений 0 целевого признака в 4 раза больше, чем 1.**\n",
        "- **Применим метод upsampling/downsampling для балансировки признаков**"
      ]
    },
    {
      "cell_type": "code",
      "metadata": {
        "id": "ezyzp_2_5EfR",
        "colab_type": "code",
        "colab": {},
        "outputId": "8dd72687-8de1-4512-8f85-9823101cde2f"
      },
      "source": [
        "def upsample(features, target, repeat):\n",
        "    features_zeros = features[target == 0]\n",
        "    features_ones = features[target == 1]   \n",
        "    target_zeros = target[target == 0]\n",
        "    target_ones = target[target == 1]\n",
        "    \n",
        "    #Создаем новый датафрейм с признаками\n",
        "    features_upsampled = pd.concat([features_zeros] + [features_ones] * repeat)\n",
        "    \n",
        "    #Создаем новый датафрейм с целевыми значениями\n",
        "    target_upsampled = pd.concat([target_zeros] + [target_ones] * repeat)\n",
        "    \n",
        "    #Перемешиваем датафрейм\n",
        "    features_upsampled, target_upsampled = shuffle(features_upsampled, target_upsampled, random_state=12345)\n",
        "    \n",
        "    return features_upsampled, target_upsampled\n",
        "\n",
        "features_train_u, target_train_u = upsample(features_train, target_train, 4)\n",
        "target_train_u.value_counts()"
      ],
      "execution_count": null,
      "outputs": [
        {
          "output_type": "execute_result",
          "data": {
            "text/plain": [
              "1    6008\n",
              "0    5998\n",
              "Name: Exited, dtype: int64"
            ]
          },
          "metadata": {
            "tags": []
          },
          "execution_count": 67
        }
      ]
    },
    {
      "cell_type": "code",
      "metadata": {
        "id": "7ZeTE5SZ5EfV",
        "colab_type": "code",
        "colab": {},
        "outputId": "a53f7034-7d0f-46e2-8455-f148a51b1cc1"
      },
      "source": [
        "#Проверим модель после upsample\n",
        "ran_forest = RandomForestClassifier(\n",
        "    random_state=12345,\n",
        "    n_estimators=50,\n",
        "    max_leaf_nodes=150\n",
        ")\n",
        "ran_forest.fit(features_train_u, target_train_u) \n",
        "predicted_valid_forest = ran_forest.predict(features_valid)\n",
        "print('VALID       f1      =', f1_score(target_valid, predicted_valid_forest))\n",
        "print('VALID accuracy      =', accuracy_score(target_valid, predicted_valid_forest))\n",
        "print('VALID roc_auc_score =', roc_auc_score(target_valid, predicted_valid_forest))"
      ],
      "execution_count": null,
      "outputs": [
        {
          "output_type": "stream",
          "text": [
            "VALID       f1      = 0.6175548589341693\n",
            "VALID accuracy      = 0.8048\n",
            "VALID roc_auc_score = 0.7757315349452664\n"
          ],
          "name": "stdout"
        }
      ]
    },
    {
      "cell_type": "code",
      "metadata": {
        "id": "wQZgZzxa5Efa",
        "colab_type": "code",
        "colab": {},
        "outputId": "d52a99ed-6ec9-45f3-ced2-eccdec535e3e"
      },
      "source": [
        "def downsampling(features, target, fraction):\n",
        "    features_zeros = features[target == 0]\n",
        "    features_ones = features[target == 1]   \n",
        "    target_zeros = target[target == 0]\n",
        "    target_ones = target[target == 1]\n",
        "    \n",
        "    #Создаем новый датафрейм с признаками\n",
        "    features_downsampled = pd.concat(\n",
        "        [features_zeros.sample(frac=fraction, random_state=12345)] + [features_ones])\n",
        "    \n",
        "    #Создаем новый датафрейм с целевыми значениями\n",
        "    target_downsampled = pd.concat(\n",
        "        [target_zeros.sample(frac=fraction, random_state=12345)] + [target_ones])\n",
        "    \n",
        "    #Перемешиваем датафрейм\n",
        "    features_downsampled, target_downsampled = shuffle(features_downsampled, target_downsampled, random_state=12345)\n",
        "    \n",
        "    return features_downsampled, target_downsampled\n",
        "\n",
        "for i in np.arange(0.04, 0.41, 0.04):\n",
        "    features_downsampled, target_downsampled = downsampling(features_train, target_train, i)\n",
        "    model = RandomForestClassifier(random_state=12345)\n",
        "    model.fit(features_downsampled, target_downsampled)\n",
        "    predictions = model.predict(features_valid)\n",
        "    print(\"F1_Score: {: >5.3f}  |  Fractions : {: >5.3f}\".format(f1_score(target_valid, predictions), i))"
      ],
      "execution_count": null,
      "outputs": [
        {
          "output_type": "stream",
          "text": [
            "/opt/conda/lib/python3.7/site-packages/sklearn/ensemble/forest.py:245: FutureWarning: The default value of n_estimators will change from 10 in version 0.20 to 100 in 0.22.\n",
            "  \"10 in version 0.20 to 100 in 0.22.\", FutureWarning)\n",
            "/opt/conda/lib/python3.7/site-packages/sklearn/ensemble/forest.py:245: FutureWarning: The default value of n_estimators will change from 10 in version 0.20 to 100 in 0.22.\n",
            "  \"10 in version 0.20 to 100 in 0.22.\", FutureWarning)\n",
            "/opt/conda/lib/python3.7/site-packages/sklearn/ensemble/forest.py:245: FutureWarning: The default value of n_estimators will change from 10 in version 0.20 to 100 in 0.22.\n",
            "  \"10 in version 0.20 to 100 in 0.22.\", FutureWarning)\n",
            "/opt/conda/lib/python3.7/site-packages/sklearn/ensemble/forest.py:245: FutureWarning: The default value of n_estimators will change from 10 in version 0.20 to 100 in 0.22.\n",
            "  \"10 in version 0.20 to 100 in 0.22.\", FutureWarning)\n"
          ],
          "name": "stderr"
        },
        {
          "output_type": "stream",
          "text": [
            "F1_Score: 0.412  |  Fractions : 0.040\n",
            "F1_Score: 0.464  |  Fractions : 0.080\n",
            "F1_Score: 0.503  |  Fractions : 0.120\n",
            "F1_Score: 0.551  |  Fractions : 0.160\n"
          ],
          "name": "stdout"
        },
        {
          "output_type": "stream",
          "text": [
            "/opt/conda/lib/python3.7/site-packages/sklearn/ensemble/forest.py:245: FutureWarning: The default value of n_estimators will change from 10 in version 0.20 to 100 in 0.22.\n",
            "  \"10 in version 0.20 to 100 in 0.22.\", FutureWarning)\n",
            "/opt/conda/lib/python3.7/site-packages/sklearn/ensemble/forest.py:245: FutureWarning: The default value of n_estimators will change from 10 in version 0.20 to 100 in 0.22.\n",
            "  \"10 in version 0.20 to 100 in 0.22.\", FutureWarning)\n",
            "/opt/conda/lib/python3.7/site-packages/sklearn/ensemble/forest.py:245: FutureWarning: The default value of n_estimators will change from 10 in version 0.20 to 100 in 0.22.\n",
            "  \"10 in version 0.20 to 100 in 0.22.\", FutureWarning)\n"
          ],
          "name": "stderr"
        },
        {
          "output_type": "stream",
          "text": [
            "F1_Score: 0.568  |  Fractions : 0.200\n",
            "F1_Score: 0.570  |  Fractions : 0.240\n",
            "F1_Score: 0.568  |  Fractions : 0.280\n"
          ],
          "name": "stdout"
        },
        {
          "output_type": "stream",
          "text": [
            "/opt/conda/lib/python3.7/site-packages/sklearn/ensemble/forest.py:245: FutureWarning: The default value of n_estimators will change from 10 in version 0.20 to 100 in 0.22.\n",
            "  \"10 in version 0.20 to 100 in 0.22.\", FutureWarning)\n",
            "/opt/conda/lib/python3.7/site-packages/sklearn/ensemble/forest.py:245: FutureWarning: The default value of n_estimators will change from 10 in version 0.20 to 100 in 0.22.\n",
            "  \"10 in version 0.20 to 100 in 0.22.\", FutureWarning)\n",
            "/opt/conda/lib/python3.7/site-packages/sklearn/ensemble/forest.py:245: FutureWarning: The default value of n_estimators will change from 10 in version 0.20 to 100 in 0.22.\n",
            "  \"10 in version 0.20 to 100 in 0.22.\", FutureWarning)\n"
          ],
          "name": "stderr"
        },
        {
          "output_type": "stream",
          "text": [
            "F1_Score: 0.565  |  Fractions : 0.320\n",
            "F1_Score: 0.592  |  Fractions : 0.360\n",
            "F1_Score: 0.557  |  Fractions : 0.400\n"
          ],
          "name": "stdout"
        }
      ]
    },
    {
      "cell_type": "code",
      "metadata": {
        "id": "Tefv7HYG5Efh",
        "colab_type": "code",
        "colab": {},
        "outputId": "491e5850-7daf-440b-bd9e-a0111057dd8f"
      },
      "source": [
        "#Проверим модель после downsample\n",
        "ran_forest_down = RandomForestClassifier(\n",
        "    random_state=12345,\n",
        "    n_estimators=50,\n",
        "    max_leaf_nodes=150\n",
        ")\n",
        "features_downsampled, target_downsampled = downsampling(features_train, target_train, 0.36)\n",
        "ran_forest_down.fit(features_downsampled, target_downsampled) \n",
        "predicted_valid_forest = ran_forest_down.predict(features_valid)\n",
        "print('VALID       f1      =', f1_score(target_valid, predicted_valid_forest))\n",
        "print('VALID accuracy      =', accuracy_score(target_valid, predicted_valid_forest))\n",
        "print('VALID roc_auc_score =', roc_auc_score(target_valid, predicted_valid_forest))"
      ],
      "execution_count": null,
      "outputs": [
        {
          "output_type": "stream",
          "text": [
            "VALID       f1      = 0.6352941176470587\n",
            "VALID accuracy      = 0.8264\n",
            "VALID roc_auc_score = 0.7789193131240226\n"
          ],
          "name": "stdout"
        }
      ]
    },
    {
      "cell_type": "markdown",
      "metadata": {
        "id": "gAY6N5mp5Efl",
        "colab_type": "text"
      },
      "source": [
        "## Вывод"
      ]
    },
    {
      "cell_type": "markdown",
      "metadata": {
        "id": "ft3yUkG_5Efm",
        "colab_type": "text"
      },
      "source": [
        " - Обнаружил дисбаланс данных. Значений целевого признака 0 в 4 раза больше, чем 1.\n",
        " - Использовал upsampling/downsampling для балансировки признаков.\n",
        " - Выбрал downsampling, т.к. у него выше показания метрик.\n",
        " - Проверил на валидационных данных."
      ]
    },
    {
      "cell_type": "markdown",
      "metadata": {
        "id": "eLUXg7_25Efo",
        "colab_type": "text"
      },
      "source": [
        "# 4. Тестирование модели"
      ]
    },
    {
      "cell_type": "markdown",
      "metadata": {
        "id": "BJwrJaix5Efp",
        "colab_type": "text"
      },
      "source": [
        " - **Протестируем модель на тестовой выборке.**"
      ]
    },
    {
      "cell_type": "code",
      "metadata": {
        "id": "IrLarK7Q5Efp",
        "colab_type": "code",
        "colab": {},
        "outputId": "c2ff0698-4234-4d8f-c422-c08f09054b02"
      },
      "source": [
        "features_downsampled, target_downsampled = downsampling(features_train, target_train, 0.36)\n",
        "ran_forest_d = RandomForestClassifier(random_state=1234,\n",
        "    n_estimators=50,\n",
        "    max_leaf_nodes=150)\n",
        "ran_forest_d.fit(features_downsampled, target_downsampled)\n",
        "predictions_test = ran_forest_d.predict(features_test)\n",
        "\n",
        "print('TEST       f1      =', f1_score(target_test, predictions_test))\n",
        "print('TEST accuracy      =', accuracy_score(target_test, predictions_test))\n",
        "print('TEST roc_auc_score =', roc_auc_score(target_test, predictions_test))"
      ],
      "execution_count": null,
      "outputs": [
        {
          "output_type": "stream",
          "text": [
            "TEST       f1      = 0.6156521739130436\n",
            "TEST accuracy      = 0.8232\n",
            "TEST roc_auc_score = 0.7681128433899246\n"
          ],
          "name": "stdout"
        }
      ]
    },
    {
      "cell_type": "markdown",
      "metadata": {
        "id": "1K1FnoK95Efs",
        "colab_type": "text"
      },
      "source": [
        "# Вывод: "
      ]
    },
    {
      "cell_type": "markdown",
      "metadata": {
        "id": "MUqxsr-K5Eft",
        "colab_type": "text"
      },
      "source": [
        " - Проверил полученную модель на тестовой выборке.\n",
        " - Значение метрики f1 удовлетворяет требованию(выше 0.59)\n",
        " - Дополнительной измерил accuracy и roc_auc_score.\n",
        " - Высокий AUC ROC и высокий f1 означает, что классификатор в настоящее время выполняет достойную работу, и для многих других значений порога он будет делать то же самое."
      ]
    }
  ]
}